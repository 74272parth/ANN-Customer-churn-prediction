{
 "cells": [
  {
   "cell_type": "code",
   "execution_count": 1,
   "metadata": {
    "colab": {
     "base_uri": "https://localhost:8080/"
    },
    "id": "KMQO-lpC6lgI",
    "outputId": "827b8b09-d838-4a44-d3e5-3b7a4ba63413"
   },
   "outputs": [
    {
     "name": "stdout",
     "output_type": "stream",
     "text": [
      "Collecting tensorflow-gpu\n",
      "  Downloading tensorflow_gpu-2.8.0-cp37-cp37m-manylinux2010_x86_64.whl (497.5 MB)\n",
      "\u001b[K     |████████████████████████████████| 497.5 MB 24 kB/s \n",
      "\u001b[?25hRequirement already satisfied: tensorflow-io-gcs-filesystem>=0.23.1 in /usr/local/lib/python3.7/dist-packages (from tensorflow-gpu) (0.24.0)\n",
      "Requirement already satisfied: flatbuffers>=1.12 in /usr/local/lib/python3.7/dist-packages (from tensorflow-gpu) (2.0)\n",
      "Requirement already satisfied: google-pasta>=0.1.1 in /usr/local/lib/python3.7/dist-packages (from tensorflow-gpu) (0.2.0)\n",
      "Requirement already satisfied: absl-py>=0.4.0 in /usr/local/lib/python3.7/dist-packages (from tensorflow-gpu) (1.0.0)\n",
      "Requirement already satisfied: wrapt>=1.11.0 in /usr/local/lib/python3.7/dist-packages (from tensorflow-gpu) (1.14.0)\n",
      "Requirement already satisfied: termcolor>=1.1.0 in /usr/local/lib/python3.7/dist-packages (from tensorflow-gpu) (1.1.0)\n",
      "Requirement already satisfied: grpcio<2.0,>=1.24.3 in /usr/local/lib/python3.7/dist-packages (from tensorflow-gpu) (1.44.0)\n",
      "Requirement already satisfied: numpy>=1.20 in /usr/local/lib/python3.7/dist-packages (from tensorflow-gpu) (1.21.5)\n",
      "Requirement already satisfied: h5py>=2.9.0 in /usr/local/lib/python3.7/dist-packages (from tensorflow-gpu) (3.1.0)\n",
      "Requirement already satisfied: typing-extensions>=3.6.6 in /usr/local/lib/python3.7/dist-packages (from tensorflow-gpu) (3.10.0.2)\n",
      "Collecting tf-estimator-nightly==2.8.0.dev2021122109\n",
      "  Downloading tf_estimator_nightly-2.8.0.dev2021122109-py2.py3-none-any.whl (462 kB)\n",
      "\u001b[K     |████████████████████████████████| 462 kB 39.3 MB/s \n",
      "\u001b[?25hRequirement already satisfied: six>=1.12.0 in /usr/local/lib/python3.7/dist-packages (from tensorflow-gpu) (1.15.0)\n",
      "Requirement already satisfied: keras-preprocessing>=1.1.1 in /usr/local/lib/python3.7/dist-packages (from tensorflow-gpu) (1.1.2)\n",
      "Requirement already satisfied: protobuf>=3.9.2 in /usr/local/lib/python3.7/dist-packages (from tensorflow-gpu) (3.17.3)\n",
      "Requirement already satisfied: tensorboard<2.9,>=2.8 in /usr/local/lib/python3.7/dist-packages (from tensorflow-gpu) (2.8.0)\n",
      "Requirement already satisfied: astunparse>=1.6.0 in /usr/local/lib/python3.7/dist-packages (from tensorflow-gpu) (1.6.3)\n",
      "Requirement already satisfied: libclang>=9.0.1 in /usr/local/lib/python3.7/dist-packages (from tensorflow-gpu) (13.0.0)\n",
      "Requirement already satisfied: opt-einsum>=2.3.2 in /usr/local/lib/python3.7/dist-packages (from tensorflow-gpu) (3.3.0)\n",
      "Requirement already satisfied: gast>=0.2.1 in /usr/local/lib/python3.7/dist-packages (from tensorflow-gpu) (0.5.3)\n",
      "Requirement already satisfied: setuptools in /usr/local/lib/python3.7/dist-packages (from tensorflow-gpu) (57.4.0)\n",
      "Requirement already satisfied: keras<2.9,>=2.8.0rc0 in /usr/local/lib/python3.7/dist-packages (from tensorflow-gpu) (2.8.0)\n",
      "Requirement already satisfied: wheel<1.0,>=0.23.0 in /usr/local/lib/python3.7/dist-packages (from astunparse>=1.6.0->tensorflow-gpu) (0.37.1)\n",
      "Requirement already satisfied: cached-property in /usr/local/lib/python3.7/dist-packages (from h5py>=2.9.0->tensorflow-gpu) (1.5.2)\n",
      "Requirement already satisfied: google-auth<3,>=1.6.3 in /usr/local/lib/python3.7/dist-packages (from tensorboard<2.9,>=2.8->tensorflow-gpu) (1.35.0)\n",
      "Requirement already satisfied: markdown>=2.6.8 in /usr/local/lib/python3.7/dist-packages (from tensorboard<2.9,>=2.8->tensorflow-gpu) (3.3.6)\n",
      "Requirement already satisfied: tensorboard-plugin-wit>=1.6.0 in /usr/local/lib/python3.7/dist-packages (from tensorboard<2.9,>=2.8->tensorflow-gpu) (1.8.1)\n",
      "Requirement already satisfied: requests<3,>=2.21.0 in /usr/local/lib/python3.7/dist-packages (from tensorboard<2.9,>=2.8->tensorflow-gpu) (2.23.0)\n",
      "Requirement already satisfied: werkzeug>=0.11.15 in /usr/local/lib/python3.7/dist-packages (from tensorboard<2.9,>=2.8->tensorflow-gpu) (1.0.1)\n",
      "Requirement already satisfied: tensorboard-data-server<0.7.0,>=0.6.0 in /usr/local/lib/python3.7/dist-packages (from tensorboard<2.9,>=2.8->tensorflow-gpu) (0.6.1)\n",
      "Requirement already satisfied: google-auth-oauthlib<0.5,>=0.4.1 in /usr/local/lib/python3.7/dist-packages (from tensorboard<2.9,>=2.8->tensorflow-gpu) (0.4.6)\n",
      "Requirement already satisfied: cachetools<5.0,>=2.0.0 in /usr/local/lib/python3.7/dist-packages (from google-auth<3,>=1.6.3->tensorboard<2.9,>=2.8->tensorflow-gpu) (4.2.4)\n",
      "Requirement already satisfied: pyasn1-modules>=0.2.1 in /usr/local/lib/python3.7/dist-packages (from google-auth<3,>=1.6.3->tensorboard<2.9,>=2.8->tensorflow-gpu) (0.2.8)\n",
      "Requirement already satisfied: rsa<5,>=3.1.4 in /usr/local/lib/python3.7/dist-packages (from google-auth<3,>=1.6.3->tensorboard<2.9,>=2.8->tensorflow-gpu) (4.8)\n",
      "Requirement already satisfied: requests-oauthlib>=0.7.0 in /usr/local/lib/python3.7/dist-packages (from google-auth-oauthlib<0.5,>=0.4.1->tensorboard<2.9,>=2.8->tensorflow-gpu) (1.3.1)\n",
      "Requirement already satisfied: importlib-metadata>=4.4 in /usr/local/lib/python3.7/dist-packages (from markdown>=2.6.8->tensorboard<2.9,>=2.8->tensorflow-gpu) (4.11.3)\n",
      "Requirement already satisfied: zipp>=0.5 in /usr/local/lib/python3.7/dist-packages (from importlib-metadata>=4.4->markdown>=2.6.8->tensorboard<2.9,>=2.8->tensorflow-gpu) (3.7.0)\n",
      "Requirement already satisfied: pyasn1<0.5.0,>=0.4.6 in /usr/local/lib/python3.7/dist-packages (from pyasn1-modules>=0.2.1->google-auth<3,>=1.6.3->tensorboard<2.9,>=2.8->tensorflow-gpu) (0.4.8)\n",
      "Requirement already satisfied: certifi>=2017.4.17 in /usr/local/lib/python3.7/dist-packages (from requests<3,>=2.21.0->tensorboard<2.9,>=2.8->tensorflow-gpu) (2021.10.8)\n",
      "Requirement already satisfied: chardet<4,>=3.0.2 in /usr/local/lib/python3.7/dist-packages (from requests<3,>=2.21.0->tensorboard<2.9,>=2.8->tensorflow-gpu) (3.0.4)\n",
      "Requirement already satisfied: urllib3!=1.25.0,!=1.25.1,<1.26,>=1.21.1 in /usr/local/lib/python3.7/dist-packages (from requests<3,>=2.21.0->tensorboard<2.9,>=2.8->tensorflow-gpu) (1.24.3)\n",
      "Requirement already satisfied: idna<3,>=2.5 in /usr/local/lib/python3.7/dist-packages (from requests<3,>=2.21.0->tensorboard<2.9,>=2.8->tensorflow-gpu) (2.10)\n",
      "Requirement already satisfied: oauthlib>=3.0.0 in /usr/local/lib/python3.7/dist-packages (from requests-oauthlib>=0.7.0->google-auth-oauthlib<0.5,>=0.4.1->tensorboard<2.9,>=2.8->tensorflow-gpu) (3.2.0)\n",
      "Installing collected packages: tf-estimator-nightly, tensorflow-gpu\n",
      "Successfully installed tensorflow-gpu-2.8.0 tf-estimator-nightly-2.8.0.dev2021122109\n"
     ]
    }
   ],
   "source": [
    " \n"
   ]
  },
  {
   "cell_type": "code",
   "execution_count": 1,
   "metadata": {
    "id": "D2IliGyI62B0"
   },
   "outputs": [
    {
     "name": "stderr",
     "output_type": "stream",
     "text": [
      "2023-10-15 20:37:54.155919: I tensorflow/tsl/cuda/cudart_stub.cc:28] Could not find cuda drivers on your machine, GPU will not be used.\n",
      "2023-10-15 20:37:54.202294: I tensorflow/tsl/cuda/cudart_stub.cc:28] Could not find cuda drivers on your machine, GPU will not be used.\n",
      "2023-10-15 20:37:54.203005: I tensorflow/core/platform/cpu_feature_guard.cc:182] This TensorFlow binary is optimized to use available CPU instructions in performance-critical operations.\n",
      "To enable the following instructions: AVX2 FMA, in other operations, rebuild TensorFlow with the appropriate compiler flags.\n",
      "2023-10-15 20:37:55.124133: W tensorflow/compiler/tf2tensorrt/utils/py_utils.cc:38] TF-TRT Warning: Could not find TensorRT\n"
     ]
    }
   ],
   "source": [
    "import tensorflow as tf"
   ]
  },
  {
   "cell_type": "code",
   "execution_count": 2,
   "metadata": {
    "colab": {
     "base_uri": "https://localhost:8080/"
    },
    "id": "4_fyxUHb7GuH",
    "outputId": "2c8a495d-cff8-49f1-b9c2-fa63165b0043"
   },
   "outputs": [
    {
     "name": "stdout",
     "output_type": "stream",
     "text": [
      "2.12.0\n"
     ]
    }
   ],
   "source": [
    "print(tf.__version__)"
   ]
  },
  {
   "cell_type": "code",
   "execution_count": 3,
   "metadata": {
    "id": "LLvV2K-o7KAp"
   },
   "outputs": [],
   "source": [
    "# Importing the libraries\n",
    "import numpy as np\n",
    "import matplotlib.pyplot as plt\n",
    "import pandas as pd"
   ]
  },
  {
   "cell_type": "code",
   "execution_count": 4,
   "metadata": {
    "id": "gHRHobkK7Sxn"
   },
   "outputs": [],
   "source": [
    "# Importing the dataset\n",
    "dataset = pd.read_csv('Churn_Modelling.csv')\n",
    "X = dataset.iloc[:, 3:13]\n",
    "y = dataset.iloc[:, 13]"
   ]
  },
  {
   "cell_type": "code",
   "execution_count": 5,
   "metadata": {
    "id": "T2yS0VL67Ufn"
   },
   "outputs": [],
   "source": [
    "#Create dummy variables\n",
    "geography=pd.get_dummies(X[\"Geography\"],drop_first=True)\n",
    "gender=pd.get_dummies(X['Gender'],drop_first=True)"
   ]
  },
  {
   "cell_type": "code",
   "execution_count": 6,
   "metadata": {
    "id": "Co2rxaFR7Wgo"
   },
   "outputs": [],
   "source": [
    "## Concatenate the Data Frames\n",
    "\n",
    "X=pd.concat([X,geography,gender],axis=1)\n",
    "\n",
    "## Drop Unnecessary columns\n",
    "X=X.drop(['Geography','Gender'],axis=1)\n",
    "\n",
    "# Splitting the dataset into the Training set and Test set\n",
    "from sklearn.model_selection import train_test_split\n",
    "X_train, X_test, y_train, y_test = train_test_split(X, y, test_size = 0.2, random_state = 0)\n"
   ]
  },
  {
   "cell_type": "code",
   "execution_count": 7,
   "metadata": {
    "id": "GNZrZXy37ZLs"
   },
   "outputs": [],
   "source": [
    "# Feature Scaling\n",
    "from sklearn.preprocessing import StandardScaler\n",
    "sc = StandardScaler()\n",
    "X_train = sc.fit_transform(X_train)\n",
    "X_test = sc.transform(X_test)\n"
   ]
  },
  {
   "cell_type": "code",
   "execution_count": 8,
   "metadata": {
    "id": "uwN3bgie7bvT"
   },
   "outputs": [],
   "source": [
    "# Part 2 - Now let's make the ANN!"
   ]
  },
  {
   "cell_type": "code",
   "execution_count": 9,
   "metadata": {
    "id": "rL_a7vWu7dj1"
   },
   "outputs": [],
   "source": [
    "from tensorflow.keras.models import Sequential\n",
    "from tensorflow.keras.layers import Dense\n",
    "from tensorflow.keras.layers import LeakyReLU,PReLU,ELU\n",
    "from tensorflow.keras.layers import Dropout\n"
   ]
  },
  {
   "cell_type": "code",
   "execution_count": 10,
   "metadata": {
    "id": "VDJwvrbZ7kj4"
   },
   "outputs": [],
   "source": [
    "# Initialising the ANN\n",
    "classifier = Sequential()"
   ]
  },
  {
   "cell_type": "code",
   "execution_count": 11,
   "metadata": {
    "id": "RSZQrU-g7z4N"
   },
   "outputs": [],
   "source": [
    "# Adding the input layer and the first hidden layer\n",
    "classifier.add(Dense(units=11,activation='relu'))"
   ]
  },
  {
   "cell_type": "code",
   "execution_count": 12,
   "metadata": {
    "id": "byszZMvw8RcQ"
   },
   "outputs": [],
   "source": [
    "# Adding the input layer and the first hidden layer\n",
    "classifier.add(Dense(units=6,activation='relu'))"
   ]
  },
  {
   "cell_type": "code",
   "execution_count": 13,
   "metadata": {
    "id": "Mk2slmAX8XUI"
   },
   "outputs": [],
   "source": [
    "# Adding the input layer and the first hidden layer\n",
    "classifier.add(Dense(units=1,activation='relu'))"
   ]
  },
  {
   "cell_type": "code",
   "execution_count": 14,
   "metadata": {
    "id": "F2udThHo8cFt"
   },
   "outputs": [],
   "source": [
    "classifier.compile(optimizer='adam',loss='binary_crossentropy',metrics=['accuracy'])\n"
   ]
  },
  {
   "cell_type": "code",
   "execution_count": 15,
   "metadata": {
    "colab": {
     "base_uri": "https://localhost:8080/"
    },
    "id": "3qairJAs8fIc",
    "outputId": "0730a4ec-193f-41ae-daff-4ccc7673b142"
   },
   "outputs": [
    {
     "name": "stdout",
     "output_type": "stream",
     "text": [
      "Epoch 1/50\n",
      "536/536 [==============================] - 2s 2ms/step - loss: 1.2643 - accuracy: 0.7578 - val_loss: 1.0159 - val_accuracy: 0.7827\n",
      "Epoch 2/50\n",
      "536/536 [==============================] - 1s 3ms/step - loss: 0.6602 - accuracy: 0.7882 - val_loss: 0.5343 - val_accuracy: 0.7880\n",
      "Epoch 3/50\n",
      "536/536 [==============================] - 2s 3ms/step - loss: 0.4840 - accuracy: 0.8011 - val_loss: 0.4906 - val_accuracy: 0.8001\n",
      "Epoch 4/50\n",
      "536/536 [==============================] - 1s 2ms/step - loss: 0.4658 - accuracy: 0.8095 - val_loss: 0.4918 - val_accuracy: 0.8069\n",
      "Epoch 5/50\n",
      "536/536 [==============================] - 1s 2ms/step - loss: 0.4518 - accuracy: 0.8134 - val_loss: 0.4597 - val_accuracy: 0.8099\n",
      "Epoch 6/50\n",
      "536/536 [==============================] - 1s 2ms/step - loss: 0.4320 - accuracy: 0.8209 - val_loss: 0.4559 - val_accuracy: 0.8201\n",
      "Epoch 7/50\n",
      "536/536 [==============================] - 2s 3ms/step - loss: 0.4212 - accuracy: 0.8238 - val_loss: 0.4491 - val_accuracy: 0.8167\n",
      "Epoch 8/50\n",
      "536/536 [==============================] - 2s 3ms/step - loss: 0.4108 - accuracy: 0.8315 - val_loss: 0.4363 - val_accuracy: 0.8262\n",
      "Epoch 9/50\n",
      "536/536 [==============================] - 1s 2ms/step - loss: 0.4055 - accuracy: 0.8380 - val_loss: 0.4714 - val_accuracy: 0.8092\n",
      "Epoch 10/50\n",
      "536/536 [==============================] - 1s 2ms/step - loss: 0.4073 - accuracy: 0.8313 - val_loss: 0.4692 - val_accuracy: 0.8054\n",
      "Epoch 11/50\n",
      "536/536 [==============================] - 2s 3ms/step - loss: 0.4075 - accuracy: 0.8276 - val_loss: 0.4136 - val_accuracy: 0.8251\n",
      "Epoch 12/50\n",
      "536/536 [==============================] - 2s 3ms/step - loss: 0.3890 - accuracy: 0.8382 - val_loss: 0.4155 - val_accuracy: 0.8326\n",
      "Epoch 13/50\n",
      "536/536 [==============================] - 2s 3ms/step - loss: 0.3826 - accuracy: 0.8414 - val_loss: 0.4334 - val_accuracy: 0.8315\n",
      "Epoch 14/50\n",
      "536/536 [==============================] - 2s 3ms/step - loss: 0.3808 - accuracy: 0.8474 - val_loss: 0.4212 - val_accuracy: 0.8368\n",
      "Epoch 15/50\n",
      "536/536 [==============================] - 2s 3ms/step - loss: 0.3717 - accuracy: 0.8481 - val_loss: 0.4067 - val_accuracy: 0.8379\n",
      "Epoch 16/50\n",
      "536/536 [==============================] - 2s 3ms/step - loss: 0.3682 - accuracy: 0.8517 - val_loss: 0.4210 - val_accuracy: 0.8406\n",
      "Epoch 17/50\n",
      "536/536 [==============================] - 2s 3ms/step - loss: 0.3661 - accuracy: 0.8509 - val_loss: 0.4238 - val_accuracy: 0.8455\n",
      "Epoch 18/50\n",
      "536/536 [==============================] - 2s 3ms/step - loss: 0.3647 - accuracy: 0.8528 - val_loss: 0.4135 - val_accuracy: 0.8417\n",
      "Epoch 19/50\n",
      "536/536 [==============================] - 2s 3ms/step - loss: 0.3604 - accuracy: 0.8548 - val_loss: 0.4100 - val_accuracy: 0.8455\n",
      "Epoch 20/50\n",
      "536/536 [==============================] - 2s 3ms/step - loss: 0.3585 - accuracy: 0.8558 - val_loss: 0.3993 - val_accuracy: 0.8440\n",
      "Epoch 21/50\n",
      "536/536 [==============================] - 2s 3ms/step - loss: 0.3566 - accuracy: 0.8563 - val_loss: 0.4000 - val_accuracy: 0.8463\n",
      "Epoch 22/50\n",
      "536/536 [==============================] - 2s 3ms/step - loss: 0.3520 - accuracy: 0.8558 - val_loss: 0.4181 - val_accuracy: 0.8474\n",
      "Epoch 23/50\n",
      "536/536 [==============================] - 2s 3ms/step - loss: 0.3580 - accuracy: 0.8569 - val_loss: 0.4036 - val_accuracy: 0.8421\n",
      "Epoch 24/50\n",
      "536/536 [==============================] - 2s 3ms/step - loss: 0.3599 - accuracy: 0.8565 - val_loss: 0.4098 - val_accuracy: 0.8485\n",
      "Epoch 25/50\n",
      "536/536 [==============================] - 2s 3ms/step - loss: 0.3647 - accuracy: 0.8584 - val_loss: 0.3927 - val_accuracy: 0.8501\n",
      "Epoch 26/50\n",
      "536/536 [==============================] - 2s 3ms/step - loss: 0.3617 - accuracy: 0.8558 - val_loss: 0.3855 - val_accuracy: 0.8474\n",
      "Epoch 27/50\n",
      "536/536 [==============================] - 2s 3ms/step - loss: 0.3545 - accuracy: 0.8623 - val_loss: 0.3919 - val_accuracy: 0.8493\n",
      "Epoch 28/50\n",
      "536/536 [==============================] - 2s 3ms/step - loss: 0.3503 - accuracy: 0.8589 - val_loss: 0.4091 - val_accuracy: 0.8466\n",
      "Epoch 29/50\n",
      "536/536 [==============================] - 2s 3ms/step - loss: 0.3519 - accuracy: 0.8595 - val_loss: 0.4212 - val_accuracy: 0.8508\n",
      "Epoch 30/50\n",
      "536/536 [==============================] - 2s 3ms/step - loss: 0.3540 - accuracy: 0.8600 - val_loss: 0.4439 - val_accuracy: 0.8470\n",
      "Epoch 31/50\n",
      "536/536 [==============================] - 2s 3ms/step - loss: 0.3639 - accuracy: 0.8571 - val_loss: 0.4192 - val_accuracy: 0.8493\n",
      "Epoch 32/50\n",
      "536/536 [==============================] - 2s 3ms/step - loss: 0.3499 - accuracy: 0.8604 - val_loss: 0.4371 - val_accuracy: 0.8482\n",
      "Epoch 33/50\n",
      "536/536 [==============================] - 2s 3ms/step - loss: 0.3503 - accuracy: 0.8617 - val_loss: 0.4690 - val_accuracy: 0.8519\n",
      "Epoch 34/50\n",
      "536/536 [==============================] - 2s 3ms/step - loss: 0.3528 - accuracy: 0.8578 - val_loss: 0.4567 - val_accuracy: 0.8485\n",
      "Epoch 35/50\n",
      "536/536 [==============================] - 2s 3ms/step - loss: 0.3471 - accuracy: 0.8595 - val_loss: 0.4121 - val_accuracy: 0.8497\n",
      "Epoch 36/50\n",
      "536/536 [==============================] - 2s 3ms/step - loss: 0.3428 - accuracy: 0.8619 - val_loss: 0.4599 - val_accuracy: 0.8364\n",
      "Epoch 37/50\n",
      "536/536 [==============================] - 2s 3ms/step - loss: 0.3505 - accuracy: 0.8576 - val_loss: 0.4376 - val_accuracy: 0.8463\n",
      "Epoch 38/50\n",
      "536/536 [==============================] - 2s 3ms/step - loss: 0.3514 - accuracy: 0.8533 - val_loss: 0.4337 - val_accuracy: 0.8342\n",
      "Epoch 39/50\n",
      "536/536 [==============================] - 2s 3ms/step - loss: 0.3470 - accuracy: 0.8518 - val_loss: 0.4064 - val_accuracy: 0.8470\n",
      "Epoch 40/50\n",
      "536/536 [==============================] - 2s 3ms/step - loss: 0.3378 - accuracy: 0.8587 - val_loss: 0.4096 - val_accuracy: 0.8455\n",
      "Epoch 41/50\n",
      "536/536 [==============================] - 2s 3ms/step - loss: 0.3391 - accuracy: 0.8608 - val_loss: 0.4110 - val_accuracy: 0.8485\n",
      "Epoch 42/50\n",
      "536/536 [==============================] - 2s 3ms/step - loss: 0.3447 - accuracy: 0.8604 - val_loss: 0.4140 - val_accuracy: 0.8466\n",
      "Epoch 43/50\n",
      "536/536 [==============================] - 2s 3ms/step - loss: 0.3380 - accuracy: 0.8608 - val_loss: 0.4041 - val_accuracy: 0.8508\n",
      "Epoch 44/50\n",
      "536/536 [==============================] - 2s 3ms/step - loss: 0.3443 - accuracy: 0.8589 - val_loss: 0.4509 - val_accuracy: 0.8387\n",
      "Epoch 45/50\n",
      "536/536 [==============================] - 2s 3ms/step - loss: 0.3462 - accuracy: 0.8558 - val_loss: 0.4264 - val_accuracy: 0.8512\n",
      "Epoch 46/50\n",
      "536/536 [==============================] - 2s 3ms/step - loss: 0.3413 - accuracy: 0.8614 - val_loss: 0.3976 - val_accuracy: 0.8504\n",
      "Epoch 47/50\n",
      "536/536 [==============================] - 2s 3ms/step - loss: 0.3330 - accuracy: 0.8597 - val_loss: 0.4083 - val_accuracy: 0.8550\n",
      "Epoch 48/50\n",
      "536/536 [==============================] - 2s 3ms/step - loss: 0.3341 - accuracy: 0.8599 - val_loss: 0.4254 - val_accuracy: 0.8501\n",
      "Epoch 49/50\n",
      "536/536 [==============================] - 2s 4ms/step - loss: 0.3427 - accuracy: 0.8572 - val_loss: 0.4088 - val_accuracy: 0.8523\n",
      "Epoch 50/50\n",
      "536/536 [==============================] - 2s 3ms/step - loss: 0.3407 - accuracy: 0.8640 - val_loss: 0.3996 - val_accuracy: 0.8538\n"
     ]
    }
   ],
   "source": [
    "model_history=classifier.fit(X_train,y_train,validation_split=0.33,batch_size=10,epochs=50)"
   ]
  },
  {
   "cell_type": "code",
   "execution_count": 16,
   "metadata": {
    "colab": {
     "base_uri": "https://localhost:8080/"
    },
    "id": "Q9t_M4wICTTz",
    "outputId": "18fa935a-8009-407f-de61-7f6a83669624"
   },
   "outputs": [
    {
     "name": "stdout",
     "output_type": "stream",
     "text": [
      "dict_keys(['loss', 'accuracy', 'val_loss', 'val_accuracy'])\n"
     ]
    }
   ],
   "source": [
    "# list all data in history\n",
    "\n",
    "print(model_history.history.keys())"
   ]
  },
  {
   "cell_type": "code",
   "execution_count": 17,
   "metadata": {
    "colab": {
     "base_uri": "https://localhost:8080/",
     "height": 295
    },
    "id": "MMOyiwzgBlLY",
    "outputId": "aeb29600-3c1f-41aa-9e29-05acf6011ed8"
   },
   "outputs": [
    {
     "data": {
      "image/png": "[encoded data removed]",
      "text/plain": [
       "<Figure size 640x480 with 1 Axes>"
      ]
     },
     "metadata": {},
     "output_type": "display_data"
    }
   ],
   "source": [
    "\n",
    "# summarize history for accuracy\n",
    "plt.plot(model_history.history['accuracy'])\n",
    "plt.plot(model_history.history['val_accuracy'])\n",
    "plt.title('model accuracy')\n",
    "plt.ylabel('accuracy')\n",
    "plt.xlabel('epoch')\n",
    "plt.legend(['train', 'test'], loc='upper left')\n",
    "plt.show()"
   ]
  },
  {
   "cell_type": "code",
   "execution_count": 18,
   "metadata": {
    "colab": {
     "base_uri": "https://localhost:8080/",
     "height": 295
    },
    "id": "QH141RsQCEr0",
    "outputId": "4566dca0-b002-4f59-b6e8-f8654b414283"
   },
   "outputs": [
    {
     "data": {
      "image/png": "[encoded data removed]",
      "text/plain": [
       "<Figure size 640x480 with 1 Axes>"
      ]
     },
     "metadata": {},
     "output_type": "display_data"
    }
   ],
   "source": [
    "# summarize history for loss\n",
    "plt.plot(model_history.history['loss'])\n",
    "plt.plot(model_history.history['val_loss'])\n",
    "plt.title('model loss')\n",
    "plt.ylabel('loss')\n",
    "plt.xlabel('epoch')\n",
    "plt.legend(['train', 'test'], loc='upper left')\n",
    "plt.show()"
   ]
  },
  {
   "cell_type": "code",
   "execution_count": 19,
   "metadata": {
    "id": "OYqCIIkDCd8S"
   },
   "outputs": [
    {
     "name": "stdout",
     "output_type": "stream",
     "text": [
      "63/63 [==============================] - 0s 2ms/step\n"
     ]
    }
   ],
   "source": [
    "# Part 3 - Making the predictions and evaluating the model\n",
    "\n",
    "# Predicting the Test set results\n",
    "y_pred = classifier.predict(X_test)\n",
    "y_pred = (y_pred > 0.5)"
   ]
  },
  {
   "cell_type": "code",
   "execution_count": 20,
   "metadata": {
    "colab": {
     "base_uri": "https://localhost:8080/"
    },
    "id": "cm3EeOGTCi3-",
    "outputId": "f3cfe210-0811-4c4e-ce72-4100b32bb79f"
   },
   "outputs": [
    {
     "data": {
      "text/plain": [
       "array([[1522,   73],\n",
       "       [ 206,  199]])"
      ]
     },
     "execution_count": 20,
     "metadata": {},
     "output_type": "execute_result"
    }
   ],
   "source": [
    "# Making the Confusion Matrix\n",
    "from sklearn.metrics import confusion_matrix\n",
    "cm = confusion_matrix(y_test, y_pred)\n",
    "cm"
   ]
  },
  {
   "cell_type": "code",
   "execution_count": 21,
   "metadata": {
    "id": "FgfRKzzOClmP"
   },
   "outputs": [],
   "source": [
    "# Calculate the Accuracy\n",
    "from sklearn.metrics import accuracy_score\n",
    "score=accuracy_score(y_pred,y_test)"
   ]
  },
  {
   "cell_type": "code",
   "execution_count": 22,
   "metadata": {
    "colab": {
     "base_uri": "https://localhost:8080/"
    },
    "id": "a_C5EETrCpSj",
    "outputId": "6e495c58-0149-453b-b0d6-592606fe5c80"
   },
   "outputs": [
    {
     "data": {
      "text/plain": [
       "0.8605"
      ]
     },
     "execution_count": 22,
     "metadata": {},
     "output_type": "execute_result"
    }
   ],
   "source": [
    "score"
   ]
  },
  {
   "cell_type": "code",
   "execution_count": null,
   "metadata": {},
   "outputs": [],
   "source": []
  }
 ],
 "metadata": {
  "colab": {
   "name": "Untitled63.ipynb",
   "provenance": []
  },
  "kernelspec": {
   "display_name": "Python 3 (ipykernel)",
   "language": "python",
   "name": "python3"
  },
  "language_info": {
   "codemirror_mode": {
    "name": "ipython",
    "version": 3
   },
   "file_extension": ".py",
   "mimetype": "text/x-python",
   "name": "python",
   "nbconvert_exporter": "python",
   "pygments_lexer": "ipython3",
   "version": "3.10.12"
  }
 },
 "nbformat": 4,
 "nbformat_minor": 1
}
